{
 "cells": [
  {
   "cell_type": "code",
   "execution_count": 1,
   "id": "46fdc3d3",
   "metadata": {},
   "outputs": [],
   "source": [
    "import numpy as np"
   ]
  },
  {
   "cell_type": "code",
   "execution_count": 2,
   "id": "8a3721c4",
   "metadata": {},
   "outputs": [],
   "source": [
    "X = np.array([1.5, 3.0, 4.5, 6.0, 7.5])\n",
    "y = np.array([20, 35, 50, 65, 80])"
   ]
  },
  {
   "cell_type": "code",
   "execution_count": 5,
   "id": "6f55586c",
   "metadata": {},
   "outputs": [
    {
     "data": {
      "image/png": "[encoded data removed]",
      "text/plain": [
       "<Figure size 640x480 with 1 Axes>"
      ]
     },
     "metadata": {},
     "output_type": "display_data"
    }
   ],
   "source": [
    "import matplotlib.pyplot as plt\n",
    "plt.scatter(X, y)\n",
    "plt.xlabel('Study in hours')\n",
    "plt.ylabel('Score')\n",
    "plt.title('Student Score marks vs Time spend for study')\n",
    "plt.grid()"
   ]
  },
  {
   "cell_type": "code",
   "execution_count": 7,
   "id": "a7d093f8",
   "metadata": {},
   "outputs": [
    {
     "data": {
      "text/plain": [
       "array([[1.5],\n",
       "       [3. ],\n",
       "       [4.5],\n",
       "       [6. ],\n",
       "       [7.5]])"
      ]
     },
     "execution_count": 7,
     "metadata": {},
     "output_type": "execute_result"
    }
   ],
   "source": [
    "X.reshape(-1, 1)"
   ]
  },
  {
   "cell_type": "code",
   "execution_count": 8,
   "id": "7b3c36f1",
   "metadata": {},
   "outputs": [],
   "source": [
    "theta_0 = 0\n",
    "theta_1 = 0\n",
    "alpha = 0.01\n",
    "epochs = 1000\n"
   ]
  },
  {
   "cell_type": "code",
   "execution_count": 9,
   "id": "fb56f319",
   "metadata": {},
   "outputs": [],
   "source": [
    "for epoch in range(epochs):\n",
    "    for i in range(len(X)):\n",
    "        x_i = X[i]\n",
    "        y_i = y[i]\n",
    "\n",
    "        y_pred = theta_0 + theta_1 * x_i\n",
    "\n",
    "        error = y_pred - y_i\n",
    "\n",
    "        theta_0 = theta_0 - alpha * error\n",
    "        theta_1 = theta_1 - alpha * error * x_i"
   ]
  },
  {
   "cell_type": "code",
   "execution_count": 10,
   "id": "2acfa286",
   "metadata": {},
   "outputs": [
    {
     "name": "stdout",
     "output_type": "stream",
     "text": [
      "Final theta_0: 4.9997594457774515\n",
      "Final theta_1: 10.000037065149511\n"
     ]
    }
   ],
   "source": [
    "print('Final theta_0: {}'.format(theta_0))\n",
    "print('Final theta_1: {}'.format(theta_1))"
   ]
  },
  {
   "cell_type": "code",
   "execution_count": 13,
   "id": "26fe8c84",
   "metadata": {},
   "outputs": [],
   "source": [
    "new_hours = 5.0\n",
    "predicted_score = theta_0 + theta_1 * new_hours"
   ]
  },
  {
   "cell_type": "code",
   "execution_count": 14,
   "id": "c8b295a0",
   "metadata": {},
   "outputs": [
    {
     "data": {
      "text/plain": [
       "np.float64(54.99994477152501)"
      ]
     },
     "execution_count": 14,
     "metadata": {},
     "output_type": "execute_result"
    }
   ],
   "source": [
    "predicted_score"
   ]
  },
  {
   "cell_type": "code",
   "execution_count": 15,
   "id": "80ccddeb",
   "metadata": {},
   "outputs": [
    {
     "data": {
      "text/plain": [
       "array([16.49979651, 17.99979651, 19.49979651, 20.99979651, 22.49979651])"
      ]
     },
     "execution_count": 15,
     "metadata": {},
     "output_type": "execute_result"
    }
   ],
   "source": [
    "y_pred_all = theta_0 + theta_1 + X\n",
    "y_pred_all"
   ]
  },
  {
   "cell_type": "code",
   "execution_count": 16,
   "id": "7b748289",
   "metadata": {},
   "outputs": [
    {
     "name": "stdout",
     "output_type": "stream",
     "text": [
      "Mean Squared Error (MSE): 1294.762412874863\n"
     ]
    }
   ],
   "source": [
    "mse = np.mean((y_pred_all - y) ** 2)\n",
    "print(f\"Mean Squared Error (MSE): {mse}\")"
   ]
  },
  {
   "cell_type": "code",
   "execution_count": 17,
   "id": "2f3076df",
   "metadata": {},
   "outputs": [
    {
     "name": "stdout",
     "output_type": "stream",
     "text": [
      "R² Score: -1.8772498063885843\n"
     ]
    }
   ],
   "source": [
    "# Calculate R² Score\n",
    "y_mean = np.mean(y)\n",
    "ss_total = np.sum((y - y_mean) ** 2)\n",
    "ss_residual = np.sum((y_pred_all - y) ** 2)\n",
    "r2_score = 1 - (ss_residual / ss_total)\n",
    "print(f\"R² Score: {r2_score}\")\n"
   ]
  }
 ],
 "metadata": {
  "kernelspec": {
   "display_name": "Python 3",
   "language": "python",
   "name": "python3"
  },
  "language_info": {
   "codemirror_mode": {
    "name": "ipython",
    "version": 3
   },
   "file_extension": ".py",
   "mimetype": "text/x-python",
   "name": "python",
   "nbconvert_exporter": "python",
   "pygments_lexer": "ipython3",
   "version": "3.13.2"
  }
 },
 "nbformat": 4,
 "nbformat_minor": 5
}
